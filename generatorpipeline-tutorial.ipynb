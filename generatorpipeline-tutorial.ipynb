{
 "cells": [
  {
   "cell_type": "markdown",
   "metadata": {},
   "source": [
    "Stephan Kuschel, 2020"
   ]
  },
  {
   "cell_type": "code",
   "execution_count": 1,
   "metadata": {},
   "outputs": [
    {
     "name": "stdout",
     "output_type": "stream",
     "text": [
      "v0.1+16.g9afd1ee\n"
     ]
    }
   ],
   "source": [
    "import generatorpipeline as gp\n",
    "import time\n",
    "print(gp.__version__)"
   ]
  },
  {
   "cell_type": "markdown",
   "metadata": {},
   "source": [
    "# The principle of generatorpipeline\n",
    "\n",
    "To process many elements memory efficiently in python, generators can be used in pytheon. One generator `start_generator` is generating the data (here a sequence of numbers) and another function `timestwo_g` is processing every individual element. Lets look at the principle in pure python first:"
   ]
  },
  {
   "cell_type": "code",
   "execution_count": 2,
   "metadata": {},
   "outputs": [
    {
     "data": {
      "text/plain": [
       "[0, 2, 4, 6, 8, 10, 12, 14, 16, 18]"
      ]
     },
     "execution_count": 2,
     "metadata": {},
     "output_type": "execute_result"
    }
   ],
   "source": [
    "def start_generator():\n",
    "    # create the \"data\"\n",
    "    for i in range(10):\n",
    "        yield i\n",
    "\n",
    "def timestwo_g(gen):\n",
    "    # do something with each element\n",
    "    for el in gen:\n",
    "        yield el*2\n",
    "\n",
    "gen = start_generator()\n",
    "gen = timestwo_g(gen)\n",
    "list(gen)"
   ]
  },
  {
   "cell_type": "markdown",
   "metadata": {},
   "source": [
    "Instead of numbers there could also use large objects, like images, as the generator will create and process one element after the other. It is possible to define muliple processing steps and chain them together to build a data-processing pipeline.\n",
    "\n",
    "The example has some severe shortcoming: The `timestwo_g` function cannot be used on a single element (useful for testing, development or within another function): the call `timestwo_g(7)` will not work.\n",
    "\n",
    "With `generatorpipeline` the function can still be used without a generator and the example becomes much easier:"
   ]
  },
  {
   "cell_type": "code",
   "execution_count": 3,
   "metadata": {},
   "outputs": [],
   "source": [
    "@gp.pipeline()\n",
    "def timestwo(x):\n",
    "    return x*2"
   ]
  },
  {
   "cell_type": "markdown",
   "metadata": {},
   "source": [
    "The new `timestwo` function will automatically return a generator when a Iterator or Generator is given as the argument:"
   ]
  },
  {
   "cell_type": "code",
   "execution_count": 59,
   "metadata": {},
   "outputs": [
    {
     "data": {
      "text/plain": [
       "[0, 2, 4, 6, 8, 10, 12, 14, 16, 18]"
      ]
     },
     "execution_count": 59,
     "metadata": {},
     "output_type": "execute_result"
    }
   ],
   "source": [
    "gen = iter(range(10))\n",
    "gen = timestwo(gen)\n",
    "list(gen)"
   ]
  },
  {
   "cell_type": "markdown",
   "metadata": {},
   "source": [
    "If the argument is not an Iterator, the function will act as the undecorated function:"
   ]
  },
  {
   "cell_type": "code",
   "execution_count": 60,
   "metadata": {},
   "outputs": [
    {
     "data": {
      "text/plain": [
       "14"
      ]
     },
     "execution_count": 60,
     "metadata": {},
     "output_type": "execute_result"
    }
   ],
   "source": [
    "timestwo(7)"
   ]
  },
  {
   "cell_type": "markdown",
   "metadata": {},
   "source": [
    "It is important, that the function must have only one arguemnt. `kwargs` will be forwarded to every call:"
   ]
  },
  {
   "cell_type": "code",
   "execution_count": 6,
   "metadata": {},
   "outputs": [
    {
     "data": {
      "text/plain": [
       "[0, 3, 6, 9, 12, 15, 18, 21, 24, 27]"
      ]
     },
     "execution_count": 6,
     "metadata": {},
     "output_type": "execute_result"
    }
   ],
   "source": [
    "@gp.pipeline()\n",
    "def multiply(x, y=1):\n",
    "    return x * y\n",
    "\n",
    "gen = iter(range(10))\n",
    "gen = multiply(gen, y=3)\n",
    "list(gen)"
   ]
  },
  {
   "cell_type": "markdown",
   "metadata": {},
   "source": [
    "# Multiprocessing"
   ]
  },
  {
   "cell_type": "markdown",
   "metadata": {},
   "source": [
    "As the processing is done for each element, they can be processed on multiple cores. Internally, the `multiprocessing` package is used to distribute the work:"
   ]
  },
  {
   "cell_type": "code",
   "execution_count": 13,
   "metadata": {},
   "outputs": [
    {
     "name": "stdout",
     "output_type": "stream",
     "text": [
      "CPU times: user 2.37 ms, sys: 526 µs, total: 2.9 ms\n",
      "Wall time: 2 s\n"
     ]
    },
    {
     "data": {
      "text/plain": [
       "[0, 3, 6, 9, 12, 15, 18, 21, 24, 27, 30, 33, 36, 39, 42, 45, 48, 51, 54, 57]"
      ]
     },
     "execution_count": 13,
     "metadata": {},
     "output_type": "execute_result"
    }
   ],
   "source": [
    "%%time\n",
    "\n",
    "@gp.pipeline()  # serial execution in the same python process\n",
    "def multiply(x, y=1):\n",
    "    time.sleep(0.1)\n",
    "    return x * y\n",
    "\n",
    "gen = iter(range(20))\n",
    "gen = multiply(gen, y=3)\n",
    "list(gen)"
   ]
  },
  {
   "cell_type": "code",
   "execution_count": 8,
   "metadata": {},
   "outputs": [
    {
     "name": "stdout",
     "output_type": "stream",
     "text": [
      "CPU times: user 25.1 ms, sys: 11.9 ms, total: 37.1 ms\n",
      "Wall time: 439 ms\n"
     ]
    },
    {
     "data": {
      "text/plain": [
       "[0, 3, 6, 9, 12, 15, 18, 21, 24, 27, 30, 33, 36, 39, 42, 45, 48, 51, 54, 57]"
      ]
     },
     "execution_count": 8,
     "metadata": {},
     "output_type": "execute_result"
    }
   ],
   "source": [
    "%%time\n",
    "\n",
    "@gp.pipeline(5)  # parallel execution in 5 new processes\n",
    "def multiply(x, y=1):\n",
    "    time.sleep(0.1)\n",
    "    return x * y\n",
    "\n",
    "gen = iter(range(20))\n",
    "gen = multiply(gen, y=3)\n",
    "list(gen)"
   ]
  },
  {
   "cell_type": "markdown",
   "metadata": {},
   "source": [
    "Note, that adding more processes is not always faster! The element and the result will always be transferred from and back to the main python process! Its often better group a large task and have that distributed to minimize inter-process communication."
   ]
  },
  {
   "cell_type": "markdown",
   "metadata": {},
   "source": [
    "# Discarding elements\n",
    "\n",
    "Elements will be removed from the data stream, if the function returns `None`"
   ]
  },
  {
   "cell_type": "code",
   "execution_count": 9,
   "metadata": {},
   "outputs": [
    {
     "data": {
      "text/plain": [
       "[0, 2, 4, 6, 8, 10]"
      ]
     },
     "execution_count": 9,
     "metadata": {},
     "output_type": "execute_result"
    }
   ],
   "source": [
    "@gp.pipeline()\n",
    "def filter_odd(el):\n",
    "    if el % 2:\n",
    "        return \n",
    "    return el\n",
    "\n",
    "gen = iter(range(12))\n",
    "gen = filter_odd(gen)\n",
    "list(gen)"
   ]
  },
  {
   "cell_type": "markdown",
   "metadata": {},
   "source": [
    "`None` elements can be preserved by setting the `skipNone` argument to `False`"
   ]
  },
  {
   "cell_type": "code",
   "execution_count": 61,
   "metadata": {},
   "outputs": [
    {
     "data": {
      "text/plain": [
       "[0, None, 2, None, 4, None, 6, None, 8, None, 10, None]"
      ]
     },
     "execution_count": 61,
     "metadata": {},
     "output_type": "execute_result"
    }
   ],
   "source": [
    "@gp.pipeline(skipNone=False)\n",
    "def filter_odd2(el):\n",
    "    if el % 2:\n",
    "        return \n",
    "    return el\n",
    "\n",
    "gen = iter(range(12))\n",
    "gen = filter_odd2(gen)\n",
    "list(gen)"
   ]
  },
  {
   "cell_type": "code",
   "execution_count": null,
   "metadata": {},
   "outputs": [],
   "source": []
  },
  {
   "cell_type": "markdown",
   "metadata": {},
   "source": [
    "# Iterables and Iterators\n",
    "\n",
    "The decorated function will be called for every element in the given `Iterator`. A normal `iterable` (like a string) will NOT be iterated over. Note the difference between the following statements."
   ]
  },
  {
   "cell_type": "code",
   "execution_count": 18,
   "metadata": {},
   "outputs": [
    {
     "data": {
      "text/plain": [
       "'testtest'"
      ]
     },
     "execution_count": 18,
     "metadata": {},
     "output_type": "execute_result"
    }
   ],
   "source": [
    "timestwo('test')  # same as `'test'*2`"
   ]
  },
  {
   "cell_type": "code",
   "execution_count": 23,
   "metadata": {},
   "outputs": [
    {
     "data": {
      "text/plain": [
       "['tt', 'ee', 'ss', 'tt']"
      ]
     },
     "execution_count": 23,
     "metadata": {},
     "output_type": "execute_result"
    }
   ],
   "source": [
    "gen = timestwo(iter('test'))  # `timestwo` for every character\n",
    "list(gen)"
   ]
  },
  {
   "cell_type": "code",
   "execution_count": null,
   "metadata": {},
   "outputs": [],
   "source": []
  },
  {
   "cell_type": "markdown",
   "metadata": {},
   "source": [
    "# Benchmark\n",
    "\n",
    "The following benchmark only measures the overhead of the generators per function call. Particularly using multiple cores will create a lot of overhead. This becomes worse if more data needs to be transferred to and from the other process."
   ]
  },
  {
   "cell_type": "code",
   "execution_count": 62,
   "metadata": {},
   "outputs": [
    {
     "name": "stdout",
     "output_type": "stream",
     "text": [
      "A normal function call. time per element: 0.21us\n"
     ]
    }
   ],
   "source": [
    "def multiply(x, y=1):\n",
    "    return x * y\n",
    "\n",
    "n = 1e6\n",
    "t0 = time.time()\n",
    "for i in range(int(n)):\n",
    "     _= multiply(i, y=3)\n",
    "t1 = time.time()\n",
    "print(f'A normal function call. time per element: {(t1-t0)/n * 1e6:.2f}us')"
   ]
  },
  {
   "cell_type": "code",
   "execution_count": 55,
   "metadata": {},
   "outputs": [
    {
     "name": "stdout",
     "output_type": "stream",
     "text": [
      "execution in CURRENT process. time per element: 1.02us\n"
     ]
    }
   ],
   "source": [
    "@gp.pipeline() \n",
    "def multiply(x, y=1):\n",
    "    return x * y\n",
    "\n",
    "n = 1e6\n",
    "t0 = time.time()\n",
    "gen = iter(range(int(n)))\n",
    "gen = multiply(gen, y=3)\n",
    "_ = list(gen)\n",
    "t1 = time.time()\n",
    "print(f'execution in CURRENT process. time per element: {(t1-t0)/n * 1e6:.2f}us')"
   ]
  },
  {
   "cell_type": "code",
   "execution_count": 56,
   "metadata": {},
   "outputs": [
    {
     "name": "stdout",
     "output_type": "stream",
     "text": [
      "execution in 1 OTHER process. time per element: 491us\n"
     ]
    }
   ],
   "source": [
    "@gp.pipeline(1)\n",
    "def multiply(x, y=1):\n",
    "    return x * y\n",
    "\n",
    "n = 3e3\n",
    "t0 = time.time()\n",
    "gen = iter(range(int(n)))\n",
    "gen = multiply(gen, y=3)\n",
    "_ = list(gen)\n",
    "t1 = time.time()\n",
    "print(f'execution in 1 OTHER process. time per element: {(t1-t0)/n * 1e6:.0f}us')"
   ]
  },
  {
   "cell_type": "code",
   "execution_count": 57,
   "metadata": {},
   "outputs": [
    {
     "name": "stdout",
     "output_type": "stream",
     "text": [
      "execution in 4 OTHER processes. time per element: 155us\n"
     ]
    }
   ],
   "source": [
    "@gp.pipeline(4)\n",
    "def multiply(x, y=1):\n",
    "    return x * y\n",
    "\n",
    "n = 3e3\n",
    "t0 = time.time()\n",
    "gen = iter(range(int(n)))\n",
    "gen = multiply(gen, y=3)\n",
    "_ = list(gen)\n",
    "t1 = time.time()\n",
    "print(f'execution in 4 OTHER processes. time per element: {(t1-t0)/n * 1e6:.0f}us')"
   ]
  },
  {
   "cell_type": "code",
   "execution_count": null,
   "metadata": {},
   "outputs": [],
   "source": []
  }
 ],
 "metadata": {
  "kernelspec": {
   "display_name": "Python 3",
   "language": "python",
   "name": "python3"
  },
  "language_info": {
   "codemirror_mode": {
    "name": "ipython",
    "version": 3
   },
   "file_extension": ".py",
   "mimetype": "text/x-python",
   "name": "python",
   "nbconvert_exporter": "python",
   "pygments_lexer": "ipython3",
   "version": "3.8.1"
  }
 },
 "nbformat": 4,
 "nbformat_minor": 4
}
